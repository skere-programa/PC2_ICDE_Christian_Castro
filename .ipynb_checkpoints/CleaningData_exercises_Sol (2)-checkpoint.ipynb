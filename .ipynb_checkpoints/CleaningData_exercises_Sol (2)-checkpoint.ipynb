{
  "cells": [
    {
      "cell_type": "markdown",
      "metadata": {
        "id": "_em5Btsrj3iE"
      },
      "source": [
        "<center><img src=\"https://i.imgur.com/zRrFdsf.png\" width=\"700\"></center>"
      ]
    },
    {
      "cell_type": "markdown",
      "metadata": {
        "id": "tswpoHU-j3iG"
      },
      "source": [
        "\n",
        "# Data Cleaning\n",
        "\n",
        "\n"
      ]
    },
    {
      "cell_type": "markdown",
      "metadata": {
        "id": "O2f27oVNj3iM"
      },
      "source": [
        "## Exercises:"
      ]
    },
    {
      "cell_type": "markdown",
      "metadata": {
        "id": "qa-8nTVVj3iM"
      },
      "source": [
        "The CIA has several indicators for world countries:\n",
        "\n",
        "- See [here](https://www.cia.gov/the-world-factbook/references/guide-to-country-comparisons).\n",
        "\n",
        "Review the topics related to cleaning discussed in class, and see what may be need to clean this indicator from the CIA:\n",
        "\n",
        "- [Carbon dioxide emissions](https://www.cia.gov/the-world-factbook/field/carbon-dioxide-emissions/country-comparison)."
      ]
    },
    {
      "cell_type": "markdown",
      "metadata": {
        "id": "mgdN9ZK_j3iN"
      },
      "source": [
        "You  need to make sure you have installed:\n",
        "\n",
        "* pandas\n",
        "* html5lib\n",
        "* lxml\n",
        "* beautifulsoup4 (or bs4)\n",
        "\n",
        "You can use **pip show** to verify (for instance, _pip show pandas_). If you have all of them, run this code to get the data:"
      ]
    },
    {
      "cell_type": "code",
      "source": [
        "pip show pandas html5lib lxml beautifulsoup4"
      ],
      "metadata": {
        "id": "cWmSJbqbxIfJ",
        "outputId": "9a328d36-029a-43cb-cdbe-c362eaf03d65",
        "colab": {
          "base_uri": "https://localhost:8080/"
        }
      },
      "execution_count": 2,
      "outputs": [
        {
          "output_type": "stream",
          "name": "stdout",
          "text": [
            "Name: pandas\n",
            "Version: 2.2.2\n",
            "Summary: Powerful data structures for data analysis, time series, and statistics\n",
            "Home-page: https://pandas.pydata.org\n",
            "Author: \n",
            "Author-email: The Pandas Development Team <pandas-dev@python.org>\n",
            "License: BSD 3-Clause License\n",
            "        \n",
            "        Copyright (c) 2008-2011, AQR Capital Management, LLC, Lambda Foundry, Inc. and PyData Development Team\n",
            "        All rights reserved.\n",
            "        \n",
            "        Copyright (c) 2011-2023, Open source contributors.\n",
            "        \n",
            "        Redistribution and use in source and binary forms, with or without\n",
            "        modification, are permitted provided that the following conditions are met:\n",
            "        \n",
            "        * Redistributions of source code must retain the above copyright notice, this\n",
            "          list of conditions and the following disclaimer.\n",
            "        \n",
            "        * Redistributions in binary form must reproduce the above copyright notice,\n",
            "          this list of conditions and the following disclaimer in the documentation\n",
            "          and/or other materials provided with the distribution.\n",
            "        \n",
            "        * Neither the name of the copyright holder nor the names of its\n",
            "          contributors may be used to endorse or promote products derived from\n",
            "          this software without specific prior written permission.\n",
            "        \n",
            "        THIS SOFTWARE IS PROVIDED BY THE COPYRIGHT HOLDERS AND CONTRIBUTORS \"AS IS\"\n",
            "        AND ANY EXPRESS OR IMPLIED WARRANTIES, INCLUDING, BUT NOT LIMITED TO, THE\n",
            "        IMPLIED WARRANTIES OF MERCHANTABILITY AND FITNESS FOR A PARTICULAR PURPOSE ARE\n",
            "        DISCLAIMED. IN NO EVENT SHALL THE COPYRIGHT HOLDER OR CONTRIBUTORS BE LIABLE\n",
            "        FOR ANY DIRECT, INDIRECT, INCIDENTAL, SPECIAL, EXEMPLARY, OR CONSEQUENTIAL\n",
            "        DAMAGES (INCLUDING, BUT NOT LIMITED TO, PROCUREMENT OF SUBSTITUTE GOODS OR\n",
            "        SERVICES; LOSS OF USE, DATA, OR PROFITS; OR BUSINESS INTERRUPTION) HOWEVER\n",
            "        CAUSED AND ON ANY THEORY OF LIABILITY, WHETHER IN CONTRACT, STRICT LIABILITY,\n",
            "        OR TORT (INCLUDING NEGLIGENCE OR OTHERWISE) ARISING IN ANY WAY OUT OF THE USE\n",
            "        OF THIS SOFTWARE, EVEN IF ADVISED OF THE POSSIBILITY OF SUCH DAMAGE.\n",
            "Location: /usr/local/lib/python3.10/dist-packages\n",
            "Requires: numpy, python-dateutil, pytz, tzdata\n",
            "Required-by: altair, arviz, bigframes, bigquery-magics, bokeh, bqplot, cmdstanpy, cudf-cu12, cufflinks, datascience, db-dtypes, dopamine_rl, fastai, geemap, geopandas, google-colab, gspread-dataframe, holoviews, ibis-framework, mizani, mlxtend, pandas-datareader, pandas-gbq, panel, plotnine, prophet, pymc, seaborn, sklearn-pandas, statsmodels, vega-datasets, xarray, yfinance\n",
            "---\n",
            "Name: html5lib\n",
            "Version: 1.1\n",
            "Summary: HTML parser based on the WHATWG HTML specification\n",
            "Home-page: https://github.com/html5lib/html5lib-python\n",
            "Author: \n",
            "Author-email: \n",
            "License: MIT License\n",
            "Location: /usr/local/lib/python3.10/dist-packages\n",
            "Requires: six, webencodings\n",
            "Required-by: yfinance\n",
            "---\n",
            "Name: lxml\n",
            "Version: 4.9.4\n",
            "Summary: Powerful and Pythonic XML processing library combining libxml2/libxslt with the ElementTree API.\n",
            "Home-page: https://lxml.de/\n",
            "Author: lxml dev team\n",
            "Author-email: lxml-dev@lxml.de\n",
            "License: BSD-3-Clause\n",
            "Location: /usr/local/lib/python3.10/dist-packages\n",
            "Requires: \n",
            "Required-by: nbconvert, pandas-datareader, yfinance\n",
            "---\n",
            "Name: beautifulsoup4\n",
            "Version: 4.12.3\n",
            "Summary: Screen-scraping library\n",
            "Home-page: https://www.crummy.com/software/BeautifulSoup/bs4/\n",
            "Author: \n",
            "Author-email: Leonard Richardson <leonardr@segfault.org>\n",
            "License: MIT License\n",
            "Location: /usr/local/lib/python3.10/dist-packages\n",
            "Requires: soupsieve\n",
            "Required-by: gdown, google, nbconvert, yfinance\n"
          ]
        }
      ]
    },
    {
      "cell_type": "code",
      "execution_count": 3,
      "metadata": {
        "id": "hlzdg_DWj3iN",
        "outputId": "001893f0-2de0-450f-f3f9-9ea2615553aa",
        "colab": {
          "base_uri": "https://localhost:8080/",
          "height": 423
        }
      },
      "outputs": [
        {
          "output_type": "execute_result",
          "data": {
            "text/plain": [
              "     Rank                                        Country  \\\n",
              "0       1                                          China   \n",
              "1       2                                  United States   \n",
              "2       3                                          India   \n",
              "3       4                                         Russia   \n",
              "4       5                                          Japan   \n",
              "..    ...                                            ...   \n",
              "213   214                                     Montserrat   \n",
              "214   215  Saint Helena, Ascension, and Tristan da Cunha   \n",
              "215   216                                     Antarctica   \n",
              "216   217                                           Niue   \n",
              "217   218                       Northern Mariana Islands   \n",
              "\n",
              "     metric tonnes of CO2 Date of Information  \n",
              "0             13506000000           2022 est.  \n",
              "1              4941000000           2022 est.  \n",
              "2              2805000000           2022 est.  \n",
              "3              1840000000           2022 est.  \n",
              "4              1049000000           2022 est.  \n",
              "..                    ...                 ...  \n",
              "213                 26000           2022 est.  \n",
              "214                 13000           2022 est.  \n",
              "215                 12000           2022 est.  \n",
              "216                  8000           2022 est.  \n",
              "217                     0           2019 est.  \n",
              "\n",
              "[218 rows x 4 columns]"
            ],
            "text/html": [
              "\n",
              "  <div id=\"df-1ba8cf47-e1e6-4b86-9dbe-a4ffccfaa4fd\" class=\"colab-df-container\">\n",
              "    <div>\n",
              "<style scoped>\n",
              "    .dataframe tbody tr th:only-of-type {\n",
              "        vertical-align: middle;\n",
              "    }\n",
              "\n",
              "    .dataframe tbody tr th {\n",
              "        vertical-align: top;\n",
              "    }\n",
              "\n",
              "    .dataframe thead th {\n",
              "        text-align: right;\n",
              "    }\n",
              "</style>\n",
              "<table border=\"1\" class=\"dataframe\">\n",
              "  <thead>\n",
              "    <tr style=\"text-align: right;\">\n",
              "      <th></th>\n",
              "      <th>Rank</th>\n",
              "      <th>Country</th>\n",
              "      <th>metric tonnes of CO2</th>\n",
              "      <th>Date of Information</th>\n",
              "    </tr>\n",
              "  </thead>\n",
              "  <tbody>\n",
              "    <tr>\n",
              "      <th>0</th>\n",
              "      <td>1</td>\n",
              "      <td>China</td>\n",
              "      <td>13506000000</td>\n",
              "      <td>2022 est.</td>\n",
              "    </tr>\n",
              "    <tr>\n",
              "      <th>1</th>\n",
              "      <td>2</td>\n",
              "      <td>United States</td>\n",
              "      <td>4941000000</td>\n",
              "      <td>2022 est.</td>\n",
              "    </tr>\n",
              "    <tr>\n",
              "      <th>2</th>\n",
              "      <td>3</td>\n",
              "      <td>India</td>\n",
              "      <td>2805000000</td>\n",
              "      <td>2022 est.</td>\n",
              "    </tr>\n",
              "    <tr>\n",
              "      <th>3</th>\n",
              "      <td>4</td>\n",
              "      <td>Russia</td>\n",
              "      <td>1840000000</td>\n",
              "      <td>2022 est.</td>\n",
              "    </tr>\n",
              "    <tr>\n",
              "      <th>4</th>\n",
              "      <td>5</td>\n",
              "      <td>Japan</td>\n",
              "      <td>1049000000</td>\n",
              "      <td>2022 est.</td>\n",
              "    </tr>\n",
              "    <tr>\n",
              "      <th>...</th>\n",
              "      <td>...</td>\n",
              "      <td>...</td>\n",
              "      <td>...</td>\n",
              "      <td>...</td>\n",
              "    </tr>\n",
              "    <tr>\n",
              "      <th>213</th>\n",
              "      <td>214</td>\n",
              "      <td>Montserrat</td>\n",
              "      <td>26000</td>\n",
              "      <td>2022 est.</td>\n",
              "    </tr>\n",
              "    <tr>\n",
              "      <th>214</th>\n",
              "      <td>215</td>\n",
              "      <td>Saint Helena, Ascension, and Tristan da Cunha</td>\n",
              "      <td>13000</td>\n",
              "      <td>2022 est.</td>\n",
              "    </tr>\n",
              "    <tr>\n",
              "      <th>215</th>\n",
              "      <td>216</td>\n",
              "      <td>Antarctica</td>\n",
              "      <td>12000</td>\n",
              "      <td>2022 est.</td>\n",
              "    </tr>\n",
              "    <tr>\n",
              "      <th>216</th>\n",
              "      <td>217</td>\n",
              "      <td>Niue</td>\n",
              "      <td>8000</td>\n",
              "      <td>2022 est.</td>\n",
              "    </tr>\n",
              "    <tr>\n",
              "      <th>217</th>\n",
              "      <td>218</td>\n",
              "      <td>Northern Mariana Islands</td>\n",
              "      <td>0</td>\n",
              "      <td>2019 est.</td>\n",
              "    </tr>\n",
              "  </tbody>\n",
              "</table>\n",
              "<p>218 rows × 4 columns</p>\n",
              "</div>\n",
              "    <div class=\"colab-df-buttons\">\n",
              "\n",
              "  <div class=\"colab-df-container\">\n",
              "    <button class=\"colab-df-convert\" onclick=\"convertToInteractive('df-1ba8cf47-e1e6-4b86-9dbe-a4ffccfaa4fd')\"\n",
              "            title=\"Convert this dataframe to an interactive table.\"\n",
              "            style=\"display:none;\">\n",
              "\n",
              "  <svg xmlns=\"http://www.w3.org/2000/svg\" height=\"24px\" viewBox=\"0 -960 960 960\">\n",
              "    <path d=\"M120-120v-720h720v720H120Zm60-500h600v-160H180v160Zm220 220h160v-160H400v160Zm0 220h160v-160H400v160ZM180-400h160v-160H180v160Zm440 0h160v-160H620v160ZM180-180h160v-160H180v160Zm440 0h160v-160H620v160Z\"/>\n",
              "  </svg>\n",
              "    </button>\n",
              "\n",
              "  <style>\n",
              "    .colab-df-container {\n",
              "      display:flex;\n",
              "      gap: 12px;\n",
              "    }\n",
              "\n",
              "    .colab-df-convert {\n",
              "      background-color: #E8F0FE;\n",
              "      border: none;\n",
              "      border-radius: 50%;\n",
              "      cursor: pointer;\n",
              "      display: none;\n",
              "      fill: #1967D2;\n",
              "      height: 32px;\n",
              "      padding: 0 0 0 0;\n",
              "      width: 32px;\n",
              "    }\n",
              "\n",
              "    .colab-df-convert:hover {\n",
              "      background-color: #E2EBFA;\n",
              "      box-shadow: 0px 1px 2px rgba(60, 64, 67, 0.3), 0px 1px 3px 1px rgba(60, 64, 67, 0.15);\n",
              "      fill: #174EA6;\n",
              "    }\n",
              "\n",
              "    .colab-df-buttons div {\n",
              "      margin-bottom: 4px;\n",
              "    }\n",
              "\n",
              "    [theme=dark] .colab-df-convert {\n",
              "      background-color: #3B4455;\n",
              "      fill: #D2E3FC;\n",
              "    }\n",
              "\n",
              "    [theme=dark] .colab-df-convert:hover {\n",
              "      background-color: #434B5C;\n",
              "      box-shadow: 0px 1px 3px 1px rgba(0, 0, 0, 0.15);\n",
              "      filter: drop-shadow(0px 1px 2px rgba(0, 0, 0, 0.3));\n",
              "      fill: #FFFFFF;\n",
              "    }\n",
              "  </style>\n",
              "\n",
              "    <script>\n",
              "      const buttonEl =\n",
              "        document.querySelector('#df-1ba8cf47-e1e6-4b86-9dbe-a4ffccfaa4fd button.colab-df-convert');\n",
              "      buttonEl.style.display =\n",
              "        google.colab.kernel.accessAllowed ? 'block' : 'none';\n",
              "\n",
              "      async function convertToInteractive(key) {\n",
              "        const element = document.querySelector('#df-1ba8cf47-e1e6-4b86-9dbe-a4ffccfaa4fd');\n",
              "        const dataTable =\n",
              "          await google.colab.kernel.invokeFunction('convertToInteractive',\n",
              "                                                    [key], {});\n",
              "        if (!dataTable) return;\n",
              "\n",
              "        const docLinkHtml = 'Like what you see? Visit the ' +\n",
              "          '<a target=\"_blank\" href=https://colab.research.google.com/notebooks/data_table.ipynb>data table notebook</a>'\n",
              "          + ' to learn more about interactive tables.';\n",
              "        element.innerHTML = '';\n",
              "        dataTable['output_type'] = 'display_data';\n",
              "        await google.colab.output.renderOutput(dataTable, element);\n",
              "        const docLink = document.createElement('div');\n",
              "        docLink.innerHTML = docLinkHtml;\n",
              "        element.appendChild(docLink);\n",
              "      }\n",
              "    </script>\n",
              "  </div>\n",
              "\n",
              "\n",
              "<div id=\"df-1f57bc23-2613-4d52-9006-9cf29b488de4\">\n",
              "  <button class=\"colab-df-quickchart\" onclick=\"quickchart('df-1f57bc23-2613-4d52-9006-9cf29b488de4')\"\n",
              "            title=\"Suggest charts\"\n",
              "            style=\"display:none;\">\n",
              "\n",
              "<svg xmlns=\"http://www.w3.org/2000/svg\" height=\"24px\"viewBox=\"0 0 24 24\"\n",
              "     width=\"24px\">\n",
              "    <g>\n",
              "        <path d=\"M19 3H5c-1.1 0-2 .9-2 2v14c0 1.1.9 2 2 2h14c1.1 0 2-.9 2-2V5c0-1.1-.9-2-2-2zM9 17H7v-7h2v7zm4 0h-2V7h2v10zm4 0h-2v-4h2v4z\"/>\n",
              "    </g>\n",
              "</svg>\n",
              "  </button>\n",
              "\n",
              "<style>\n",
              "  .colab-df-quickchart {\n",
              "      --bg-color: #E8F0FE;\n",
              "      --fill-color: #1967D2;\n",
              "      --hover-bg-color: #E2EBFA;\n",
              "      --hover-fill-color: #174EA6;\n",
              "      --disabled-fill-color: #AAA;\n",
              "      --disabled-bg-color: #DDD;\n",
              "  }\n",
              "\n",
              "  [theme=dark] .colab-df-quickchart {\n",
              "      --bg-color: #3B4455;\n",
              "      --fill-color: #D2E3FC;\n",
              "      --hover-bg-color: #434B5C;\n",
              "      --hover-fill-color: #FFFFFF;\n",
              "      --disabled-bg-color: #3B4455;\n",
              "      --disabled-fill-color: #666;\n",
              "  }\n",
              "\n",
              "  .colab-df-quickchart {\n",
              "    background-color: var(--bg-color);\n",
              "    border: none;\n",
              "    border-radius: 50%;\n",
              "    cursor: pointer;\n",
              "    display: none;\n",
              "    fill: var(--fill-color);\n",
              "    height: 32px;\n",
              "    padding: 0;\n",
              "    width: 32px;\n",
              "  }\n",
              "\n",
              "  .colab-df-quickchart:hover {\n",
              "    background-color: var(--hover-bg-color);\n",
              "    box-shadow: 0 1px 2px rgba(60, 64, 67, 0.3), 0 1px 3px 1px rgba(60, 64, 67, 0.15);\n",
              "    fill: var(--button-hover-fill-color);\n",
              "  }\n",
              "\n",
              "  .colab-df-quickchart-complete:disabled,\n",
              "  .colab-df-quickchart-complete:disabled:hover {\n",
              "    background-color: var(--disabled-bg-color);\n",
              "    fill: var(--disabled-fill-color);\n",
              "    box-shadow: none;\n",
              "  }\n",
              "\n",
              "  .colab-df-spinner {\n",
              "    border: 2px solid var(--fill-color);\n",
              "    border-color: transparent;\n",
              "    border-bottom-color: var(--fill-color);\n",
              "    animation:\n",
              "      spin 1s steps(1) infinite;\n",
              "  }\n",
              "\n",
              "  @keyframes spin {\n",
              "    0% {\n",
              "      border-color: transparent;\n",
              "      border-bottom-color: var(--fill-color);\n",
              "      border-left-color: var(--fill-color);\n",
              "    }\n",
              "    20% {\n",
              "      border-color: transparent;\n",
              "      border-left-color: var(--fill-color);\n",
              "      border-top-color: var(--fill-color);\n",
              "    }\n",
              "    30% {\n",
              "      border-color: transparent;\n",
              "      border-left-color: var(--fill-color);\n",
              "      border-top-color: var(--fill-color);\n",
              "      border-right-color: var(--fill-color);\n",
              "    }\n",
              "    40% {\n",
              "      border-color: transparent;\n",
              "      border-right-color: var(--fill-color);\n",
              "      border-top-color: var(--fill-color);\n",
              "    }\n",
              "    60% {\n",
              "      border-color: transparent;\n",
              "      border-right-color: var(--fill-color);\n",
              "    }\n",
              "    80% {\n",
              "      border-color: transparent;\n",
              "      border-right-color: var(--fill-color);\n",
              "      border-bottom-color: var(--fill-color);\n",
              "    }\n",
              "    90% {\n",
              "      border-color: transparent;\n",
              "      border-bottom-color: var(--fill-color);\n",
              "    }\n",
              "  }\n",
              "</style>\n",
              "\n",
              "  <script>\n",
              "    async function quickchart(key) {\n",
              "      const quickchartButtonEl =\n",
              "        document.querySelector('#' + key + ' button');\n",
              "      quickchartButtonEl.disabled = true;  // To prevent multiple clicks.\n",
              "      quickchartButtonEl.classList.add('colab-df-spinner');\n",
              "      try {\n",
              "        const charts = await google.colab.kernel.invokeFunction(\n",
              "            'suggestCharts', [key], {});\n",
              "      } catch (error) {\n",
              "        console.error('Error during call to suggestCharts:', error);\n",
              "      }\n",
              "      quickchartButtonEl.classList.remove('colab-df-spinner');\n",
              "      quickchartButtonEl.classList.add('colab-df-quickchart-complete');\n",
              "    }\n",
              "    (() => {\n",
              "      let quickchartButtonEl =\n",
              "        document.querySelector('#df-1f57bc23-2613-4d52-9006-9cf29b488de4 button');\n",
              "      quickchartButtonEl.style.display =\n",
              "        google.colab.kernel.accessAllowed ? 'block' : 'none';\n",
              "    })();\n",
              "  </script>\n",
              "</div>\n",
              "\n",
              "  <div id=\"id_e70f0d10-e8fb-4512-bb01-f6e3215ec00f\">\n",
              "    <style>\n",
              "      .colab-df-generate {\n",
              "        background-color: #E8F0FE;\n",
              "        border: none;\n",
              "        border-radius: 50%;\n",
              "        cursor: pointer;\n",
              "        display: none;\n",
              "        fill: #1967D2;\n",
              "        height: 32px;\n",
              "        padding: 0 0 0 0;\n",
              "        width: 32px;\n",
              "      }\n",
              "\n",
              "      .colab-df-generate:hover {\n",
              "        background-color: #E2EBFA;\n",
              "        box-shadow: 0px 1px 2px rgba(60, 64, 67, 0.3), 0px 1px 3px 1px rgba(60, 64, 67, 0.15);\n",
              "        fill: #174EA6;\n",
              "      }\n",
              "\n",
              "      [theme=dark] .colab-df-generate {\n",
              "        background-color: #3B4455;\n",
              "        fill: #D2E3FC;\n",
              "      }\n",
              "\n",
              "      [theme=dark] .colab-df-generate:hover {\n",
              "        background-color: #434B5C;\n",
              "        box-shadow: 0px 1px 3px 1px rgba(0, 0, 0, 0.15);\n",
              "        filter: drop-shadow(0px 1px 2px rgba(0, 0, 0, 0.3));\n",
              "        fill: #FFFFFF;\n",
              "      }\n",
              "    </style>\n",
              "    <button class=\"colab-df-generate\" onclick=\"generateWithVariable('carbon')\"\n",
              "            title=\"Generate code using this dataframe.\"\n",
              "            style=\"display:none;\">\n",
              "\n",
              "  <svg xmlns=\"http://www.w3.org/2000/svg\" height=\"24px\"viewBox=\"0 0 24 24\"\n",
              "       width=\"24px\">\n",
              "    <path d=\"M7,19H8.4L18.45,9,17,7.55,7,17.6ZM5,21V16.75L18.45,3.32a2,2,0,0,1,2.83,0l1.4,1.43a1.91,1.91,0,0,1,.58,1.4,1.91,1.91,0,0,1-.58,1.4L9.25,21ZM18.45,9,17,7.55Zm-12,3A5.31,5.31,0,0,0,4.9,8.1,5.31,5.31,0,0,0,1,6.5,5.31,5.31,0,0,0,4.9,4.9,5.31,5.31,0,0,0,6.5,1,5.31,5.31,0,0,0,8.1,4.9,5.31,5.31,0,0,0,12,6.5,5.46,5.46,0,0,0,6.5,12Z\"/>\n",
              "  </svg>\n",
              "    </button>\n",
              "    <script>\n",
              "      (() => {\n",
              "      const buttonEl =\n",
              "        document.querySelector('#id_e70f0d10-e8fb-4512-bb01-f6e3215ec00f button.colab-df-generate');\n",
              "      buttonEl.style.display =\n",
              "        google.colab.kernel.accessAllowed ? 'block' : 'none';\n",
              "\n",
              "      buttonEl.onclick = () => {\n",
              "        google.colab.notebook.generateWithVariable('carbon');\n",
              "      }\n",
              "      })();\n",
              "    </script>\n",
              "  </div>\n",
              "\n",
              "    </div>\n",
              "  </div>\n"
            ],
            "application/vnd.google.colaboratory.intrinsic+json": {
              "type": "dataframe",
              "variable_name": "carbon",
              "summary": "{\n  \"name\": \"carbon\",\n  \"rows\": 218,\n  \"fields\": [\n    {\n      \"column\": \"Rank\",\n      \"properties\": {\n        \"dtype\": \"number\",\n        \"std\": 63,\n        \"min\": 1,\n        \"max\": 218,\n        \"num_unique_values\": 218,\n        \"samples\": [\n          101,\n          216,\n          140\n        ],\n        \"semantic_type\": \"\",\n        \"description\": \"\"\n      }\n    },\n    {\n      \"column\": \"Country\",\n      \"properties\": {\n        \"dtype\": \"string\",\n        \"num_unique_values\": 218,\n        \"samples\": [\n          \"Cote d'Ivoire\",\n          \"Antarctica\",\n          \"Madagascar\"\n        ],\n        \"semantic_type\": \"\",\n        \"description\": \"\"\n      }\n    },\n    {\n      \"column\": \"metric tonnes of CO2\",\n      \"properties\": {\n        \"dtype\": \"number\",\n        \"std\": 1001153617,\n        \"min\": 0,\n        \"max\": 13506000000,\n        \"num_unique_values\": 217,\n        \"samples\": [\n          162000,\n          12000,\n          4322000\n        ],\n        \"semantic_type\": \"\",\n        \"description\": \"\"\n      }\n    },\n    {\n      \"column\": \"Date of Information\",\n      \"properties\": {\n        \"dtype\": \"category\",\n        \"num_unique_values\": 4,\n        \"samples\": [\n          \"2012 est.\",\n          \"2019 est.\",\n          \"2022 est.\"\n        ],\n        \"semantic_type\": \"\",\n        \"description\": \"\"\n      }\n    }\n  ]\n}"
            }
          },
          "metadata": {},
          "execution_count": 3
        }
      ],
      "source": [
        "# read web table into pandas DF\n",
        "import pandas as pd\n",
        "ciaLink1=\"https://www.cia.gov/the-world-factbook/field/carbon-dioxide-emissions/country-comparison\"\n",
        "\n",
        "carbon=pd.read_html(ciaLink1)[0]\n",
        "# here it is:\n",
        "carbon"
      ]
    },
    {
      "cell_type": "code",
      "execution_count": 4,
      "metadata": {
        "id": "0TTJk1odj3iN",
        "outputId": "8ded4afd-f62c-4685-abd6-9faba5b1f925",
        "colab": {
          "base_uri": "https://localhost:8080/"
        }
      },
      "outputs": [
        {
          "output_type": "stream",
          "name": "stdout",
          "text": [
            "<class 'pandas.core.frame.DataFrame'>\n",
            "RangeIndex: 218 entries, 0 to 217\n",
            "Data columns (total 4 columns):\n",
            " #   Column                Non-Null Count  Dtype \n",
            "---  ------                --------------  ----- \n",
            " 0   Rank                  218 non-null    int64 \n",
            " 1   Country               218 non-null    object\n",
            " 2   metric tonnes of CO2  218 non-null    int64 \n",
            " 3   Date of Information   218 non-null    object\n",
            "dtypes: int64(2), object(2)\n",
            "memory usage: 6.9+ KB\n"
          ]
        }
      ],
      "source": [
        "# also\n",
        "carbon.info()"
      ]
    },
    {
      "cell_type": "code",
      "execution_count": 6,
      "metadata": {
        "id": "4ECdF70Zj3iO",
        "outputId": "05a43da0-9122-44f3-87e3-097b07090a28",
        "colab": {
          "base_uri": "https://localhost:8080/",
          "height": 241
        }
      },
      "outputs": [
        {
          "output_type": "execute_result",
          "data": {
            "text/plain": [
              "Date of Information\n",
              "2022 est.    215\n",
              "2012 est.      1\n",
              "2017 est.      1\n",
              "2019 est.      1\n",
              "Name: count, dtype: int64"
            ],
            "text/html": [
              "<div>\n",
              "<style scoped>\n",
              "    .dataframe tbody tr th:only-of-type {\n",
              "        vertical-align: middle;\n",
              "    }\n",
              "\n",
              "    .dataframe tbody tr th {\n",
              "        vertical-align: top;\n",
              "    }\n",
              "\n",
              "    .dataframe thead th {\n",
              "        text-align: right;\n",
              "    }\n",
              "</style>\n",
              "<table border=\"1\" class=\"dataframe\">\n",
              "  <thead>\n",
              "    <tr style=\"text-align: right;\">\n",
              "      <th></th>\n",
              "      <th>count</th>\n",
              "    </tr>\n",
              "    <tr>\n",
              "      <th>Date of Information</th>\n",
              "      <th></th>\n",
              "    </tr>\n",
              "  </thead>\n",
              "  <tbody>\n",
              "    <tr>\n",
              "      <th>2022 est.</th>\n",
              "      <td>215</td>\n",
              "    </tr>\n",
              "    <tr>\n",
              "      <th>2012 est.</th>\n",
              "      <td>1</td>\n",
              "    </tr>\n",
              "    <tr>\n",
              "      <th>2017 est.</th>\n",
              "      <td>1</td>\n",
              "    </tr>\n",
              "    <tr>\n",
              "      <th>2019 est.</th>\n",
              "      <td>1</td>\n",
              "    </tr>\n",
              "  </tbody>\n",
              "</table>\n",
              "</div><br><label><b>dtype:</b> int64</label>"
            ]
          },
          "metadata": {},
          "execution_count": 6
        }
      ],
      "source": [
        "# frequency table\n",
        "carbon['Date of Information'].value_counts()"
      ]
    },
    {
      "cell_type": "markdown",
      "source": [
        "# Complete the tasks requested:"
      ],
      "metadata": {
        "id": "MzGYEi4Tzoc8"
      }
    },
    {
      "cell_type": "markdown",
      "source": [
        "1. Keep the columns 'Country','metric tonnes of CO2','Date of Information'.\n",
        "    * Tip: use [drop](https://pandas.pydata.org/docs/reference/api/pandas.DataFrame.drop.html), [loc](https://pandas.pydata.org/docs/reference/api/pandas.DataFrame.loc.html), and [iloc](https://pandas.pydata.org/docs/reference/api/pandas.DataFrame.iloc.html) for the same purpose (three ways to accomplish the task)."
      ],
      "metadata": {
        "id": "C2Xz5i6ZxmfD"
      }
    },
    {
      "cell_type": "code",
      "source": [
        "# using drop\n",
        "keep=['Country','metric tonnes of CO2','Date of Information']\n",
        "dontKeep=set(carbon.columns.to_list())-set(keep)\n",
        "carbonCleaned=carbon.drop(columns=dontKeep)\n",
        "carbonCleaned"
      ],
      "metadata": {
        "id": "ZiWGdehzxoCz"
      },
      "execution_count": null,
      "outputs": []
    },
    {
      "cell_type": "code",
      "source": [
        "# using loc\n",
        "carbon.loc[:,keep]"
      ],
      "metadata": {
        "id": "AJQYXCwvyYSH"
      },
      "execution_count": null,
      "outputs": []
    },
    {
      "cell_type": "code",
      "source": [
        "carbon.iloc[:,[carbon.columns.get_loc(i) for i in keep]]"
      ],
      "metadata": {
        "id": "c0xaS4LXzIEs"
      },
      "execution_count": null,
      "outputs": []
    },
    {
      "cell_type": "markdown",
      "source": [
        "2. Change the column name *date_of_information* to *carbon_date*.\n",
        "    * Tip: Use [rename](https://pandas.pydata.org/docs/reference/api/pandas.DataFrame.rename.html)."
      ],
      "metadata": {
        "id": "3cO-alk0zsIY"
      }
    },
    {
      "cell_type": "code",
      "source": [
        "change={'Date of Information':\"carbon_date\"}\n",
        "carbonCleaned.rename(columns=change,inplace=True)\n",
        "carbonCleaned"
      ],
      "metadata": {
        "id": "ltkguWWsztRE"
      },
      "execution_count": null,
      "outputs": []
    },
    {
      "cell_type": "markdown",
      "source": [
        "3. Make sure the cells with text does not have neither trailing nor leading spaces.\n",
        "    * Tip: use [strip](https://pandas.pydata.org/docs/reference/api/pandas.Series.str.strip.html)."
      ],
      "metadata": {
        "id": "4ZcNsm5B0DYF"
      }
    },
    {
      "cell_type": "code",
      "source": [
        "objectCols=carbonCleaned.select_dtypes(include=['object']).columns\n",
        "objectCols"
      ],
      "metadata": {
        "id": "Fu2q9P5f0GXy"
      },
      "execution_count": null,
      "outputs": []
    },
    {
      "cell_type": "code",
      "source": [
        "carbonCleaned.loc[:,objectCols]=carbonCleaned.loc[:,objectCols].apply(lambda col:col.str.strip())\n",
        "carbonCleaned"
      ],
      "metadata": {
        "id": "uERhJInt0waG"
      },
      "execution_count": null,
      "outputs": []
    },
    {
      "cell_type": "markdown",
      "source": [
        "4. Detect the presence of symbols in the numeric data that are not numeric or point.\n",
        "    * Tip: Use [contains](https://pandas.pydata.org/docs/reference/api/pandas.Series.str.contains.html)."
      ],
      "metadata": {
        "id": "3X8tQNDf1xV2"
      }
    },
    {
      "cell_type": "code",
      "source": [
        "carbonCleaned['metric tonnes of CO2'].info()"
      ],
      "metadata": {
        "id": "Yzf1vhrh1zY2"
      },
      "execution_count": null,
      "outputs": []
    },
    {
      "cell_type": "markdown",
      "source": [
        "5. Get rid of any value detected in the previous step:\n",
        "    * Tip: use [replace](https://pandas.pydata.org/docs/reference/api/pandas.Series.replace.html)."
      ],
      "metadata": {
        "id": "hAuZ0KlEBztF"
      }
    },
    {
      "cell_type": "code",
      "source": [
        "# not needed"
      ],
      "metadata": {
        "id": "e1S5zF2MB4ZG"
      },
      "execution_count": null,
      "outputs": []
    },
    {
      "cell_type": "markdown",
      "source": [
        "6. Make sure there are no spaces as part of the column names.\n",
        "    * Tip: use [replace](https://pandas.pydata.org/docs/reference/api/pandas.Series.replace.html)."
      ],
      "metadata": {
        "id": "mS_u_bUACA81"
      }
    },
    {
      "cell_type": "code",
      "source": [
        "carbonCleaned.columns=carbonCleaned.columns.str.replace('\\s','_',regex=True)\n",
        "carbonCleaned"
      ],
      "metadata": {
        "id": "VYoZtnoJCD45"
      },
      "execution_count": null,
      "outputs": []
    },
    {
      "cell_type": "markdown",
      "metadata": {
        "id": "UIw8d0ozj3iO"
      },
      "source": [
        "\n",
        "\n",
        "\n",
        "7. Keep only the year value in the column *carbon_date*.\n",
        "    * Tip: use [extract](https://pandas.pydata.org/docs/reference/api/pandas.Series.str.extract.html)."
      ]
    },
    {
      "cell_type": "code",
      "source": [
        "carbonCleaned['carbon_date']=carbonCleaned.carbon_date.str.extract('(\\d+)')"
      ],
      "metadata": {
        "id": "13uXtmicCWFZ"
      },
      "execution_count": null,
      "outputs": []
    },
    {
      "cell_type": "code",
      "source": [
        "carbonCleaned"
      ],
      "metadata": {
        "id": "N0FUNWf1FSj9"
      },
      "execution_count": null,
      "outputs": []
    },
    {
      "cell_type": "markdown",
      "source": [
        "When all tasks are done, create a folder **data** inside the current folder, and save the cleaned file like this:"
      ],
      "metadata": {
        "id": "tPjwPISiCAZa"
      }
    },
    {
      "cell_type": "code",
      "execution_count": null,
      "metadata": {
        "id": "AXeewlqLj3iO"
      },
      "outputs": [],
      "source": [
        "import os\n",
        "\n",
        "os.mkdir('data')\n",
        "\n",
        "carbonCleaned.to_csv(os.path.join(\"data\",\"carbonCleaned.csv\"),index=False)"
      ]
    },
    {
      "cell_type": "markdown",
      "metadata": {
        "id": "yd4p-5z7j3iO"
      },
      "source": [
        "- Exercise 2: Scrape the data on [Revenue from forest resources](https://www.cia.gov/the-world-factbook/field/revenue-from-forest-resources/country-comparison)."
      ]
    },
    {
      "cell_type": "code",
      "execution_count": null,
      "metadata": {
        "id": "cPyTuJzpj3iO"
      },
      "outputs": [],
      "source": [
        "\n",
        "ciaLink2=\"https://www.cia.gov/the-world-factbook/field/revenue-from-forest-resources/country-comparison\"\n"
      ]
    },
    {
      "cell_type": "markdown",
      "metadata": {
        "id": "43SfAFXsj3iO"
      },
      "source": [
        "Let's scrape that data:"
      ]
    },
    {
      "cell_type": "code",
      "execution_count": null,
      "metadata": {
        "id": "HcgvTuQCj3iP"
      },
      "outputs": [],
      "source": [
        "# read web table into pandas DF\n",
        "import pandas as pd\n",
        "\n",
        "forestDFs=pd.read_html(ciaLink2, # link\n",
        "                        header=0, # where is the header?\n",
        "                        flavor='bs4')"
      ]
    },
    {
      "cell_type": "code",
      "execution_count": null,
      "metadata": {
        "id": "WBdL1XaSj3iP"
      },
      "outputs": [],
      "source": [
        "# check object type\n",
        "type(forestDFs)"
      ]
    },
    {
      "cell_type": "code",
      "execution_count": null,
      "metadata": {
        "id": "KvuY0yo4j3iP"
      },
      "outputs": [],
      "source": [
        "# check size\n",
        "len(forestDFs)"
      ]
    },
    {
      "cell_type": "markdown",
      "metadata": {
        "id": "fcS8k_fNj3iP"
      },
      "source": [
        "Let's create a copy of that DF:"
      ]
    },
    {
      "cell_type": "code",
      "execution_count": null,
      "metadata": {
        "id": "ofJCgxMgj3iP"
      },
      "outputs": [],
      "source": [
        "# make a copy\n",
        "forest=forestDFs[0].copy()"
      ]
    },
    {
      "cell_type": "code",
      "execution_count": null,
      "metadata": {
        "id": "P0PxbLP4j3iP"
      },
      "outputs": [],
      "source": [
        "# here it is\n",
        "forest"
      ]
    },
    {
      "cell_type": "code",
      "execution_count": null,
      "metadata": {
        "id": "vCCEuTkLj3iQ"
      },
      "outputs": [],
      "source": [
        "# see column names:\n",
        "\n",
        "forest.columns"
      ]
    },
    {
      "cell_type": "code",
      "execution_count": null,
      "metadata": {
        "id": "QZAQVWJNj3iQ"
      },
      "outputs": [],
      "source": [
        "# or\n",
        "\n",
        "forest.columns.to_list()"
      ]
    },
    {
      "cell_type": "code",
      "execution_count": null,
      "metadata": {
        "id": "tPu5Tf2wj3iQ"
      },
      "outputs": [],
      "source": [
        "forest['Date of Information'].value_counts()"
      ]
    },
    {
      "cell_type": "markdown",
      "source": [
        "# Complete the tasks requested:"
      ],
      "metadata": {
        "id": "fIGCtbXmGOau"
      }
    },
    {
      "cell_type": "markdown",
      "source": [
        "1. Replace '%' by 'pct'.\n",
        "    * Tip: use [replace](https://pandas.pydata.org/docs/reference/api/pandas.Series.replace.html)."
      ],
      "metadata": {
        "id": "z4pS3WUKGTbE"
      }
    },
    {
      "cell_type": "code",
      "source": [
        "forest.columns=forest.columns.str.replace('%','pct')\n",
        "forest"
      ],
      "metadata": {
        "id": "sCy1Sg5lGUpO"
      },
      "execution_count": null,
      "outputs": []
    },
    {
      "cell_type": "markdown",
      "source": [
        "2. Keep the columns _Country_, _pct of GDP_, and *Date of Information*.\n",
        "    * Tip: use [drop](https://pandas.pydata.org/docs/reference/api/pandas.DataFrame.drop.html), [loc](https://pandas.pydata.org/docs/reference/api/pandas.DataFrame.loc.html), and [iloc](https://pandas.pydata.org/docs/reference/api/pandas.DataFrame.iloc.html) for the same purpose (three ways to accomplish the task)."
      ],
      "metadata": {
        "id": "55vqyGksGv94"
      }
    },
    {
      "cell_type": "code",
      "source": [
        "keep=['Country', 'pct of GDP', 'Date of Information']\n",
        "forestClean=forest.loc[:,keep]\n",
        "forestClean"
      ],
      "metadata": {
        "id": "PIY6TTAmGxUp"
      },
      "execution_count": null,
      "outputs": []
    },
    {
      "cell_type": "markdown",
      "source": [
        "3. Change the column name *Date of Information* to *forest_date*.\n",
        "    * Tip: Use [rename](https://pandas.pydata.org/docs/reference/api/pandas.DataFrame.rename.html)."
      ],
      "metadata": {
        "id": "-AhCujBlHf3r"
      }
    },
    {
      "cell_type": "code",
      "source": [
        "forestClean.rename(columns={'Date of Information':'forest_date'},inplace=True)\n",
        "forestClean"
      ],
      "metadata": {
        "id": "ugCmjiu7HhB5"
      },
      "execution_count": null,
      "outputs": []
    },
    {
      "cell_type": "markdown",
      "source": [
        "4. Make sure there are no spaces as part of the column names.\n",
        "    * Tip: use [replace](https://pandas.pydata.org/docs/reference/api/pandas.Series.replace.html)."
      ],
      "metadata": {
        "id": "wKI00ScYH2zY"
      }
    },
    {
      "cell_type": "code",
      "source": [
        "forestClean.columns=forestClean.columns.str.replace('\\s','', regex=True)\n",
        "forestClean"
      ],
      "metadata": {
        "id": "LuEODKmJH47j"
      },
      "execution_count": null,
      "outputs": []
    },
    {
      "cell_type": "markdown",
      "source": [
        "5. Make sure the cells with text does not have neither trailing nor leading spaces.\n",
        "    * Tip: use [strip](https://pandas.pydata.org/docs/reference/api/pandas.Series.str.strip.html)."
      ],
      "metadata": {
        "id": "TXAn18HyIGTL"
      }
    },
    {
      "cell_type": "code",
      "source": [
        "forestClean.info()"
      ],
      "metadata": {
        "id": "u_QIyahoIHUD"
      },
      "execution_count": null,
      "outputs": []
    },
    {
      "cell_type": "code",
      "source": [
        "objectCols=forestClean.select_dtypes(include=['object']).columns\n",
        "objectCols"
      ],
      "metadata": {
        "id": "xO6Z4XLjIUmb"
      },
      "execution_count": null,
      "outputs": []
    },
    {
      "cell_type": "code",
      "source": [
        "forestClean[objectCols]=forestClean.loc[:,objectCols].apply(lambda col:col.str.strip())\n",
        "forestClean"
      ],
      "metadata": {
        "id": "7Dl3viIEIXyW"
      },
      "execution_count": null,
      "outputs": []
    },
    {
      "cell_type": "markdown",
      "metadata": {
        "id": "tmiqVHh7j3iQ"
      },
      "source": [
        "\n",
        "\n",
        "6. Keep only the year value in the column *forest_date*.\n",
        "    * Tip: use [extract](https://pandas.pydata.org/docs/reference/api/pandas.Series.str.extract.html).\n",
        "\n"
      ]
    },
    {
      "cell_type": "code",
      "source": [
        "forestClean['forest_date']=forestClean.forest_date.str.extract('(\\d+)')\n",
        "forestClean"
      ],
      "metadata": {
        "id": "w0mSe_rHIwTn"
      },
      "execution_count": null,
      "outputs": []
    },
    {
      "cell_type": "markdown",
      "source": [
        "When all tasks are done, save the cleaned file inside your **data** folder:"
      ],
      "metadata": {
        "id": "kFqcPQQGJBd5"
      }
    },
    {
      "cell_type": "code",
      "execution_count": null,
      "metadata": {
        "id": "y66BGcvjj3iQ"
      },
      "outputs": [],
      "source": [
        "import os\n",
        "\n",
        "forestClean.to_csv(os.path.join(\"data\",\"forestClean.csv\"),index=False)"
      ]
    },
    {
      "cell_type": "code",
      "source": [],
      "metadata": {
        "id": "E2xz8YpKJFnn"
      },
      "execution_count": null,
      "outputs": []
    }
  ],
  "metadata": {
    "anaconda-cloud": {
      "attach-environment": true,
      "summary": "test"
    },
    "hide_input": false,
    "kernelspec": {
      "display_name": "Python 3 (ipykernel)",
      "language": "python",
      "name": "python3"
    },
    "language_info": {
      "codemirror_mode": {
        "name": "ipython",
        "version": 3
      },
      "file_extension": ".py",
      "mimetype": "text/x-python",
      "name": "python",
      "nbconvert_exporter": "python",
      "pygments_lexer": "ipython3",
      "version": "3.11.5"
    },
    "toc-autonumbering": false,
    "colab": {
      "provenance": []
    }
  },
  "nbformat": 4,
  "nbformat_minor": 0
}